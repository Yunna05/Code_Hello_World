{
  "nbformat": 4,
  "nbformat_minor": 0,
  "metadata": {
    "colab": {
      "name": "2_2_Code_Hello_World_112004633.ipynb",
      "provenance": [],
      "collapsed_sections": []
    },
    "kernelspec": {
      "name": "python3",
      "display_name": "Python 3"
    }
  },
  "cells": [
    {
      "cell_type": "code",
      "metadata": {
        "id": "QChNmnXf_-pE"
      },
      "source": [
        ""
      ],
      "execution_count": null,
      "outputs": []
    },
    {
      "cell_type": "markdown",
      "metadata": {
        "id": "CQqHfxdyArzJ"
      },
      "source": [
        "##Code Hello World\n",
        "Struktur code pada Python relatif sangat sederhana dan tidak terlalu rumit seperti pada Java ataupun C. Selain karena memang mudah dibaca, python juga termasuk pada high level programming language. Sebagai contoh, cobalah ketik coding pada Code Editor dengan perintah berikut untuk mengeluarkan kata-kata yang diperintahkan. Ekskusilah perintah dari kode dibawah ini."
      ]
    },
    {
      "cell_type": "code",
      "metadata": {
        "id": "oBXKvs3qA2Xb",
        "colab": {
          "base_uri": "https://localhost:8080/"
        },
        "outputId": "0f41bbd6-28eb-48f7-f4e9-c502df6ab43c"
      },
      "source": [
        "print (\"Hello World\")"
      ],
      "execution_count": 1,
      "outputs": [
        {
          "output_type": "stream",
          "name": "stdout",
          "text": [
            "Hello World\n"
          ]
        }
      ]
    },
    {
      "cell_type": "markdown",
      "metadata": {
        "id": "8yPh4FQWA_DU"
      },
      "source": [
        "Coba lanjutkan code tersebut pada baris selanjutnya dengan menggunakan kode ini :"
      ]
    },
    {
      "cell_type": "code",
      "metadata": {
        "id": "Yy5gqIzRBApb",
        "colab": {
          "base_uri": "https://localhost:8080/"
        },
        "outputId": "0375f48f-3fec-4ae1-f784-599ce370635c"
      },
      "source": [
        "print (\"Hello World\")\n",
        "print(5+1)"
      ],
      "execution_count": 2,
      "outputs": [
        {
          "output_type": "stream",
          "name": "stdout",
          "text": [
            "Hello World\n",
            "6\n"
          ]
        }
      ]
    },
    {
      "cell_type": "markdown",
      "metadata": {
        "id": "PQsFFoqjBJm0"
      },
      "source": [
        "***Note : setiap print akan mencetak baris baru.***\n",
        "\n",
        "Memang terlihat sangat sederhana jika hanya untuk kasus sederhana yang kita pelajari pada section kali ini. Namun, python tidak sesederhana itu. Biasanya kita juga menggunakan import library khusus jika sudah menyangkut masalah yang lebih kompleks. Materi berikutnya mungkin akan menjelaskan lebih lanjut.\n",
        "\n",
        " \n",
        "\n",
        "**Tugas Praktek 3.1**  \n",
        "1. Tampilkan hasil perhitungan (10*2+5) pada baris pertama."
      ]
    },
    {
      "cell_type": "code",
      "metadata": {
        "id": "UVE42BSRq-Ac",
        "colab": {
          "base_uri": "https://localhost:8080/"
        },
        "outputId": "be7f0c35-9e86-4763-9b9f-a49be14b6f4c"
      },
      "source": [
        "print (\"Hello World\")\n",
        "print(10*2+5)\n"
      ],
      "execution_count": 3,
      "outputs": [
        {
          "output_type": "stream",
          "name": "stdout",
          "text": [
            "Hello World\n",
            "25\n"
          ]
        }
      ]
    },
    {
      "cell_type": "markdown",
      "metadata": {
        "id": "KmVhSyrQq_S6"
      },
      "source": [
        "2. tampilkan teks \"2023 Aku kaya mulia\" pada baris kedua."
      ]
    },
    {
      "cell_type": "code",
      "metadata": {
        "id": "Wko-4QrwsBgj",
        "colab": {
          "base_uri": "https://localhost:8080/"
        },
        "outputId": "bb058226-666f-4216-88dd-3e6f232ae9ba"
      },
      "source": [
        "print(\"2023 Aku kaya mulia\")"
      ],
      "execution_count": 4,
      "outputs": [
        {
          "output_type": "stream",
          "name": "stdout",
          "text": [
            "2023 Aku kaya mulia\n"
          ]
        }
      ]
    },
    {
      "cell_type": "markdown",
      "metadata": {
        "id": "z5MM1FEBrswd"
      },
      "source": [
        "3. Tampilkan teks Nama anda"
      ]
    },
    {
      "cell_type": "code",
      "metadata": {
        "id": "8dylS54Rq_1D",
        "colab": {
          "base_uri": "https://localhost:8080/"
        },
        "outputId": "d11a4a4b-aa86-4177-d64f-5d42b0f930c2"
      },
      "source": [
        "print(\"Yuyun Nurazizah\")"
      ],
      "execution_count": 5,
      "outputs": [
        {
          "output_type": "stream",
          "name": "stdout",
          "text": [
            "Yuyun Nurazizah\n"
          ]
        }
      ]
    }
  ]
}